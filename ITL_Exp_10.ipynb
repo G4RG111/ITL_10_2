{
  "nbformat": 4,
  "nbformat_minor": 0,
  "metadata": {
    "colab": {
      "provenance": [],
      "authorship_tag": "ABX9TyNLjfdH4sJZsTLM7uh6kZx3",
      "include_colab_link": true
    },
    "kernelspec": {
      "name": "python3",
      "display_name": "Python 3"
    },
    "language_info": {
      "name": "python"
    }
  },
  "cells": [
    {
      "cell_type": "markdown",
      "metadata": {
        "id": "view-in-github",
        "colab_type": "text"
      },
      "source": [
        "<a href=\"https://colab.research.google.com/github/G4RG111/ITL_10_2/blob/main/ITL_Exp_10.ipynb\" target=\"_parent\"><img src=\"https://colab.research.google.com/assets/colab-badge.svg\" alt=\"Open In Colab\"/></a>"
      ]
    },
    {
      "cell_type": "code",
      "execution_count": null,
      "metadata": {
        "id": "vPA8eoFC-rOM"
      },
      "outputs": [],
      "source": [
        "import cv2\n",
        "import numpy as np\n",
        "\n",
        "def ebmhe(image):\n",
        "    \"\"\"\n",
        "    Enhance the input grayscale image using a block-based histogram equalization approach.\n",
        "\n",
        "    Parameters:\n",
        "    - image (numpy.ndarray): Input grayscale image.\n",
        "\n",
        "    Returns:\n",
        "    - numpy.ndarray: Enhanced grayscale image.\n",
        "    \"\"\"\n",
        "    # Divide the image into blocks\n",
        "    block_size = 600\n",
        "    height, width = image.shape\n",
        "    enhanced_image = np.zeros_like(image)\n",
        "\n",
        "    for i in range(0, height, block_size):\n",
        "        for j in range(0, width, block_size):\n",
        "            # Extract the block\n",
        "            block = image[i:i+block_size, j:j+block_size]\n",
        "\n",
        "            # Hist Eq.\n",
        "            equalized_block = cv2.equalizeHist(block)\n",
        "\n",
        "            # Calculate the exposure level of the block\n",
        "            exposure = np.mean(equalized_block)\n",
        "\n",
        "            # Adjust the block intensity based on exposure level\n",
        "            enhanced_block = equalized_block * (128 / exposure)\n",
        "\n",
        "            # Clip and place the enhanced block back into the image\n",
        "            enhanced_image[i:i+block_size, j:j+block_size] = np.clip(enhanced_block, 0, 255)\n",
        "\n",
        "    return enhanced_image\n",
        "\n",
        "# Load the input image\n",
        "input_image = cv2.imread('/content/sample1.jpg', cv2.IMREAD_GRAYSCALE)\n",
        "\n",
        "# Save the original grayscale image\n",
        "cv2.imwrite('/content/greyscale_sample1.jpg', input_image)\n",
        "\n",
        "# Apply the enhancement function\n",
        "enhanced_image = ebmhe(input_image)\n",
        "\n",
        "# Save the enhanced image\n",
        "cv2.imwrite('/content/enhanced_greyscale_sample1.jpg', enhanced_image)\n",
        "\n",
        "print(\"Original grayscale image sav\n"
      ]
    }
  ]
}